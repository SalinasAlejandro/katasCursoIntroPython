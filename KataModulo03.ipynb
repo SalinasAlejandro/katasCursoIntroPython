{
 "cells": [
  {
   "cell_type": "markdown",
   "metadata": {},
   "source": [
    "## Problema 01\n",
    "Añadir el código necesario para crear una variable que guarde la velocidad del asteroide.\n",
    "Escribe una expresión de prueba para calcular si necesita una advertencia.\n",
    "Agregue las instrucciones que se ejecutarán si la expresión de prueba es true o false."
   ]
  },
  {
   "cell_type": "code",
   "execution_count": 7,
   "metadata": {},
   "outputs": [
    {
     "name": "stdout",
     "output_type": "stream",
     "text": [
      "No hay preligro\n"
     ]
    }
   ],
   "source": [
    "velAsteroide = 20\n",
    "if velAsteroide > 25:\n",
    "    print(\"Advertencia, un asteroide se acerca\")\n",
    "else:\n",
    "    print(\"No hay preligro\")"
   ]
  },
  {
   "cell_type": "markdown",
   "metadata": {},
   "source": [
    "## Problema 02\n",
    "Agrega el código para crear una variable para un asteroide que viaja a 19 km/s.\n",
    "Escribe varias expresiones de prueba para determinar si puedes ver el rayo de luz desde la tierra.\n",
    "Agrega las instrucciones que se ejecutarán si las expresiones de prueba son True o False."
   ]
  },
  {
   "cell_type": "code",
   "execution_count": 6,
   "metadata": {},
   "outputs": [
    {
     "name": "stdout",
     "output_type": "stream",
     "text": [
      "No hay nada fuera de lo normal\n"
     ]
    }
   ],
   "source": [
    "velAsteroide = 19\n",
    "if velAsteroide > 20:\n",
    "    print(\"Busca el destello del asteroide\")\n",
    "elif velAsteroide == 20:\n",
    "    print(\"Busca el pequeño destello del asteroide\")\n",
    "else:\n",
    "    print(\"No hay nada fuera de lo normal\")"
   ]
  },
  {
   "cell_type": "markdown",
   "metadata": {},
   "source": [
    "## Problema 03\n",
    "\n",
    "- Los asteroides de menos de 25 metros en su dimensión más grande probablemente se quemarán a medida que entren en la atmósfera de la Tierra.\n",
    "- Si una pieza de un asteroide que es más grande que 25 metros pero más pequeña que 1000 metros golpeara la Tierra, causaría mucho daño.\n",
    "\n",
    "- La velocidad del asteroide varía en función de lo cerca que esté del sol, y cualquier velocidad superior a 25 kilómetros por segundo (km/s) merece una advertencia.\n",
    "- Si un asteroide entra en la atmósfera de la Tierra a una velocidad mayor o igual a 20 km/s, a veces produce un rayo de luz que se puede ver desde la Tierra."
   ]
  },
  {
   "cell_type": "code",
   "execution_count": 13,
   "metadata": {},
   "outputs": [
    {
     "name": "stdout",
     "output_type": "stream",
     "text": [
      "Advertencia. Asteroide que causaría mucho daño se acerca\n"
     ]
    }
   ],
   "source": [
    "velAsteroide = 30\n",
    "tamAsteroide = 40\n",
    "if(tamAsteroide > 25 and velAsteroide > 25):\n",
    "    print(\"Advertencia. Asteroide que causaría mucho daño se acerca\")\n",
    "elif(velAsteroide > 25):\n",
    "    print(\"Advertencia. Un asteroide se acerca\")\n",
    "elif(velAsteroide >= 20):\n",
    "    print(\"Busca el rayo de luz en el cielo\")\n",
    "else:\n",
    "    print(\"Nada fuera de lo común\")"
   ]
  }
 ],
 "metadata": {
  "interpreter": {
   "hash": "2be5faf79681da6f2a61fdfdd5405d65d042280f7fba6178067603e3a2925119"
  },
  "kernelspec": {
   "display_name": "Python 3.10.2 64-bit",
   "language": "python",
   "name": "python3"
  },
  "language_info": {
   "codemirror_mode": {
    "name": "ipython",
    "version": 3
   },
   "file_extension": ".py",
   "mimetype": "text/x-python",
   "name": "python",
   "nbconvert_exporter": "python",
   "pygments_lexer": "ipython3",
   "version": "3.10.2"
  },
  "orig_nbformat": 4
 },
 "nbformat": 4,
 "nbformat_minor": 2
}

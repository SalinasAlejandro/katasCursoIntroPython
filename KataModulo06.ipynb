{
 "cells": [
  {
   "cell_type": "markdown",
   "metadata": {},
   "source": [
    "## Ejercicio1: Crear y usar listas de Python"
   ]
  },
  {
   "cell_type": "code",
   "execution_count": 3,
   "metadata": {},
   "outputs": [
    {
     "name": "stdout",
     "output_type": "stream",
     "text": [
      "El número de planetas en el sistema Solar es de: 8\n",
      "El último valor de la lista es: Plutón\n"
     ]
    }
   ],
   "source": [
    "planets = ['Mercury', 'Venus', 'Earth', 'Mars', 'Jupiter', 'Saturn', 'Uranus', 'Neptune']\n",
    "print(\"El número de planetas en el sistema Solar es de: \" + str(len(planets)))\n",
    "\n",
    "planets.append(\"Plutón\")\n",
    "print(\"El último valor de la lista es: \" + planets[-1])"
   ]
  },
  {
   "cell_type": "markdown",
   "metadata": {},
   "source": [
    "## Ejercicio 2: Trabajando con datos de una lista"
   ]
  },
  {
   "cell_type": "code",
   "execution_count": 11,
   "metadata": {},
   "outputs": [
    {
     "name": "stdout",
     "output_type": "stream",
     "text": [
      "Los planetas más cercanos al sol antes que Neptune son: \n",
      "['Mercury', 'Venus', 'Earth', 'Mars', 'Jupiter', 'Saturn']\n",
      "---------------------------------\n",
      "No hay planeta más lejano al Sol\n"
     ]
    }
   ],
   "source": [
    "planets = ['Mercury', 'Venus', 'Earth', 'Mars', 'Jupiter', 'Saturn', 'Neptune']\n",
    "\n",
    "planeta = input(\"Ingrese el nombre de un planeta. Favor de escribir el nombre con la primera letra en mayúscula y las demás en minúsculas\")\n",
    "planetaIndex = planets.index(planeta)\n",
    "\n",
    "if(planetaIndex == 0):\n",
    "    print(\"No hay planeta más cercano al sol\")\n",
    "else:\n",
    "    print(\"Los planetas más cercanos al sol antes que \" + planeta + \" son: \")\n",
    "    print(planets[0:planetaIndex])\n",
    "\n",
    "print(\"---------------------------------\")\n",
    "\n",
    "if(planetaIndex == len(planets) - 1):\n",
    "    print(\"No hay planeta más lejano al Sol\")\n",
    "else:\n",
    "    print(\"Los planetas más lejanos al sol después que \" + planeta + \" son: \")\n",
    "    print(planets[planetaIndex + 1:])"
   ]
  }
 ],
 "metadata": {
  "interpreter": {
   "hash": "2be5faf79681da6f2a61fdfdd5405d65d042280f7fba6178067603e3a2925119"
  },
  "kernelspec": {
   "display_name": "Python 3.10.2 64-bit",
   "language": "python",
   "name": "python3"
  },
  "language_info": {
   "codemirror_mode": {
    "name": "ipython",
    "version": 3
   },
   "file_extension": ".py",
   "mimetype": "text/x-python",
   "name": "python",
   "nbconvert_exporter": "python",
   "pygments_lexer": "ipython3",
   "version": "3.10.2"
  },
  "orig_nbformat": 4
 },
 "nbformat": 4,
 "nbformat_minor": 2
}

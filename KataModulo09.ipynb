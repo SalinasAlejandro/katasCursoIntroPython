{
 "cells": [
  {
   "cell_type": "markdown",
   "metadata": {},
   "source": [
    "## Ejercicio: Uso de funciones en Python\n",
    "Ejercicio 1: Trabajar con argumentos en funciones"
   ]
  },
  {
   "cell_type": "code",
   "execution_count": 3,
   "metadata": {},
   "outputs": [
    {
     "name": "stdout",
     "output_type": "stream",
     "text": [
      "Reporte\n",
      "    Primer tanque: 60%\n",
      "    Segundo tanque: 70%\n",
      "    Tercer tanque: 80%\n",
      "    Promedio: 70.0%\n",
      "    \n"
     ]
    }
   ],
   "source": [
    "# Función para leer 3 tanques de combustible y muestre el promedio\n",
    "def promCombus(tanque1, tanque2, tanque3):\n",
    "    return f\"\"\"Reporte\n",
    "    Primer tanque: {tanque1}%\n",
    "    Segundo tanque: {tanque2}%\n",
    "    Tercer tanque: {tanque3}%\n",
    "    Promedio: {(tanque1 + tanque2 + tanque3)/3}%\n",
    "    \"\"\"\n",
    "\n",
    "# Llamamos a la función que genera el reporte print(funcion(tanque1, tanque2, tanque3))\n",
    "print(promCombus(60, 70, 80))"
   ]
  },
  {
   "cell_type": "code",
   "execution_count": 9,
   "metadata": {},
   "outputs": [
    {
     "name": "stdout",
     "output_type": "stream",
     "text": [
      "Reporte\n",
      "    Primer tanque: 50%\n",
      "    Segundo tanque: 60%\n",
      "    Tercer tanque: 70%\n",
      "    Promedio: 60.0%\n",
      "    \n"
     ]
    }
   ],
   "source": [
    "# Función promedio \n",
    "def prom(valor):\n",
    "    return valor/3\n",
    "\n",
    "#Actualiza la función\n",
    "def promCombus(tanque1, tanque2, tanque3):\n",
    "    return f\"\"\"Reporte\n",
    "    Primer tanque: {tanque1}%\n",
    "    Segundo tanque: {tanque2}%\n",
    "    Tercer tanque: {tanque3}%\n",
    "    Promedio: {prom(tanque1 + tanque2 + tanque3)}%\n",
    "    \"\"\"\n",
    "\n",
    "print(promCombus(50,60,70))"
   ]
  },
  {
   "cell_type": "markdown",
   "metadata": {},
   "source": [
    "## Ejercicio 2: Trabajo con argumentos de palabra clave\n",
    "Ejercicio : Trabajar con argumentos de palabras clave en funciones"
   ]
  },
  {
   "cell_type": "code",
   "execution_count": 17,
   "metadata": {},
   "outputs": [
    {
     "name": "stdout",
     "output_type": "stream",
     "text": [
      "Informe\n",
      "    Destino a: Marte\n",
      "    Tiempo de vuelo calculado: 75 minutos\n",
      "    con un total de gasolina de 1111111110 Litros\n",
      "    \n",
      "Informe\n",
      "    Destino a: Marte\n",
      "    Tiempo de vuelo calculado: 110 minutos\n",
      "    con un total de gasolina de 1111165783\n",
      "    \n",
      "Informe\n",
      "    Destino a: Marte\n",
      "    Tiempo de vuelo calculado: 110 minutos\n",
      "    con un total de gasolina de 1111165783\n",
      "    \n",
      "El tanque externo tiene 123456789 litros\n",
      "El tanque interno tiene 987654321 litros\n",
      "El tanque emergencia tiene 54673 litros\n"
     ]
    }
   ],
   "source": [
    "# Función con un informe preciso de la misión. Considera hora de prelanzamiento, tiempo de vuelo, destino, tanque externo y tanque interno\n",
    "def infoMision(horaPreLanz, tiempoVuelo, destino, tanqueExter, tanqueInter):\n",
    "    return f\"\"\"Informe\n",
    "    Destino a: {destino}\n",
    "    Tiempo de vuelo calculado: {tiempoVuelo + horaPreLanz} minutos\n",
    "    con un total de gasolina de {tanqueExter + tanqueInter} Litros\n",
    "    \"\"\"\n",
    "print(infoMision(15, 60, \"Marte\", 123456789, 987654321))\n",
    "\n",
    "\n",
    "# Escribe tu nueva función de reporte considerando lo anterior\n",
    "def infoMision2(destino, *minutos, **tanques):\n",
    "    return f\"\"\"Informe\n",
    "    Destino a: {destino}\n",
    "    Tiempo de vuelo calculado: {sum(minutos)} minutos\n",
    "    con un total de gasolina de {sum(tanques.values())}\n",
    "    \"\"\"\n",
    "print(infoMision2(\"Marte\", 15, 60, 30, 5, externo=123456789, interno=987654321, emergencia=54673))\n",
    "\n",
    "# Escribe tu nueva función\n",
    "def infoMision3(destino, *minutos, **tanques):\n",
    "    informe = f\"\"\"Informe\n",
    "    Destino a: {destino}\n",
    "    Tiempo de vuelo calculado: {sum(minutos)} minutos\n",
    "    con un total de gasolina de {sum(tanques.values())}\n",
    "    \"\"\"\n",
    "    for nombre, litros in tanques.items():\n",
    "        informe += f\"\\nEl tanque {nombre} tiene {litros} litros\"\n",
    "    return informe\n",
    "\n",
    "print(infoMision3(\"Marte\", 15, 60, 30, 5, externo=123456789, interno=987654321, emergencia=54673))"
   ]
  }
 ],
 "metadata": {
  "interpreter": {
   "hash": "2be5faf79681da6f2a61fdfdd5405d65d042280f7fba6178067603e3a2925119"
  },
  "kernelspec": {
   "display_name": "Python 3.10.2 64-bit",
   "language": "python",
   "name": "python3"
  },
  "language_info": {
   "codemirror_mode": {
    "name": "ipython",
    "version": 3
   },
   "file_extension": ".py",
   "mimetype": "text/x-python",
   "name": "python",
   "nbconvert_exporter": "python",
   "pygments_lexer": "ipython3",
   "version": "3.10.2"
  },
  "orig_nbformat": 4
 },
 "nbformat": 4,
 "nbformat_minor": 2
}

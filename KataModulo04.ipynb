{
 "cells": [
  {
   "cell_type": "markdown",
   "metadata": {},
   "source": [
    "## Ejercicio 1: Transformar cadenas\n",
    "- El texto con el que trabajarás es el siguiente:\n",
    "    text = \"\"\"Interesting facts about the Moon. The Moon is Earth's only satellite. There are several interesting facts about the Moon and how it affects life here on Earth. \n",
    "    On average, the Moon moves 4cm away from the Earth every year. This yearly drift is not significant enough to cause immediate effects on Earth. The highest day\"\"\"\n",
    "\n",
    "- Primero, divide el texto en cada oración para trabajar con su contenido.\n",
    "\n",
    "- Ahora, define algunas palabras clave para búsqueda que te ayudarán a determinar si una oración contiene un hecho.\n",
    "\n",
    "- Crear un bucle para imprimir solo datos sobre la Luna que estén relacionados con las palabras clave definidas anteriormente.\n",
    "\n",
    "- Finalmente, actualiza el bucle(ciclo) para cambiar C a Celsius."
   ]
  },
  {
   "cell_type": "code",
   "execution_count": 15,
   "metadata": {},
   "outputs": [
    {
     "name": "stdout",
     "output_type": "stream",
     "text": [
      "------- PUNTO 1 -------\n",
      "['Interesting facts about the Moon', \"The Moon is Earth's only satellite\", 'There are several interesting facts about the Moon and how it affects life here on Earth', 'On average, the Moon moves 4cm away from the Earth every year', 'This yearly drift is not significant enough to cause immediate effects on Earth', 'The highest daylight temperature of the Moon is 127 C.']\n",
      "------- PUNTO 2 -------\n",
      "['facts', 'satellite', 'moves', 'highest']\n",
      "------- PUNTO 3 -------\n",
      "Interesting facts about the Moon\n",
      "The Moon is Earth's only satellite\n",
      "There are several interesting facts about the Moon and how it affects life here on Earth\n",
      "On average, the Moon moves 4cm away from the Earth every year\n",
      "The highest daylight temperature of the Moon is 127 C.\n",
      "------- PUNTO 4 -------\n",
      "Interesting facts about the Moon\n",
      "The Moon is Earth's only satellite\n",
      "There are several interesting facts about the Moon and how it affects life here on Earth\n",
      "On average, the Moon moves 4cm away from the Earth every year\n",
      "The highest daylight temperature of the Moon is 127 Celsius\n"
     ]
    }
   ],
   "source": [
    "text = \"\"\"Interesting facts about the Moon. The Moon is Earth's only satellite. There are several interesting facts about the Moon and how it affects life here on Earth. On average, the Moon moves 4cm away from the Earth every year. This yearly drift is not significant enough to cause immediate effects on Earth. The highest daylight temperature of the Moon is 127 C.\"\"\"\n",
    "\n",
    "\n",
    "## Punto 1\n",
    "print(\"------- PUNTO 1 -------\")\n",
    "oraciones = text.split('. ')\n",
    "print(oraciones)\n",
    "\n",
    "##Punto 2\n",
    "print(\"------- PUNTO 2 -------\")\n",
    "palabrasClave = ['facts', 'satellite', 'moves', 'highest']\n",
    "print(palabrasClave)\n",
    "\n",
    "##Punto 3\n",
    "print(\"------- PUNTO 3 -------\")\n",
    "for oracion in oraciones:\n",
    "    oracion.lower()\n",
    "    for palabra in palabrasClave:\n",
    "        palabra.lower()\n",
    "        if(oracion.count(palabra)):\n",
    "            print(oracion)\n",
    "\n",
    "##Punto 4\n",
    "print(\"------- PUNTO 4 -------\")\n",
    "for oracion in oraciones:\n",
    "    for palabra in palabrasClave:\n",
    "        if(oracion.count(palabra)):\n",
    "            if(oracion.count(\" C.\")):\n",
    "                nueva = oracion.replace(' C.', ' Celsius')\n",
    "                print(nueva)\n",
    "            else:\n",
    "                print(oracion)"
   ]
  },
  {
   "cell_type": "markdown",
   "metadata": {},
   "source": [
    "## Ejercicio 2: Formateando Cadenas\n"
   ]
  },
  {
   "cell_type": "code",
   "execution_count": 25,
   "metadata": {},
   "outputs": [
    {
     "name": "stdout",
     "output_type": "stream",
     "text": [
      "------- Primera plantilla -------\n",
      "Información de la luna\n",
      "- Nombre: Moon\n",
      "- Su gravedad es de 1.6199999999999999 m/s2\n",
      "- Pertenece a Earth\n",
      "------- Segunda plantilla -------\n",
      "Información de la luna\n",
      "- Nombre: Moon\n",
      "- Su gravedad es de 1.6199999999999999 m/s2\n",
      "- Pertenece a Earth.\n"
     ]
    }
   ],
   "source": [
    "name = \"Moon\"\n",
    "gravity = 0.00162\n",
    "planet = \"Earth\"\n",
    "\n",
    "## Primera plantilla\n",
    "print(\"------- Primera plantilla -------\")\n",
    "title = \"Información de la luna\"\n",
    "info = f\"\"\"\n",
    "- Nombre: {name}\n",
    "- Su gravedad es de {gravity * 1000} m/s2\n",
    "- Pertenece a {planet}\"\"\"\n",
    "\n",
    "plantilla1 = title + info\n",
    "print(plantilla1)\n",
    "\n",
    "## Segunda plantilla\n",
    "print(\"------- Segunda plantilla -------\")\n",
    "plantilla2 = \"\"\"{0}\n",
    "- Nombre: {1}\n",
    "- Su gravedad es de {2} m/s2\n",
    "- Pertenece a {3}.\"\"\" \n",
    "print(plantilla2.format(title, name, gravity * 1000, planet))"
   ]
  }
 ],
 "metadata": {
  "interpreter": {
   "hash": "2be5faf79681da6f2a61fdfdd5405d65d042280f7fba6178067603e3a2925119"
  },
  "kernelspec": {
   "display_name": "Python 3.10.2 64-bit",
   "language": "python",
   "name": "python3"
  },
  "language_info": {
   "codemirror_mode": {
    "name": "ipython",
    "version": 3
   },
   "file_extension": ".py",
   "mimetype": "text/x-python",
   "name": "python",
   "nbconvert_exporter": "python",
   "pygments_lexer": "ipython3",
   "version": "3.10.2"
  },
  "orig_nbformat": 4
 },
 "nbformat": 4,
 "nbformat_minor": 2
}
